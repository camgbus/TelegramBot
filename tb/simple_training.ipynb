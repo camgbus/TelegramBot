{
 "cells": [
  {
   "cell_type": "code",
   "execution_count": 9,
   "metadata": {},
   "outputs": [],
   "source": [
    "%load_ext autoreload\n",
    "%autoreload 2\n",
    "\n",
    "import os\n",
    "import requests\n",
    "import torch\n",
    "import torch.nn as nn\n",
    "import torch.optim as optim\n",
    "from sklearn.datasets import make_classification\n",
    "from sklearn.model_selection import train_test_split\n",
    "from sklearn.preprocessing import StandardScaler\n",
    "import matplotlib.pyplot as plt\n",
    "import seaborn as sns\n",
    "sns.set_style(\"whitegrid\")\n",
    "from tb.models.SimpleNet import SimpleNet\n",
    "from tb.local.telegram_bot_login import BOT_TOKEN, CHAT_ID"
   ]
  },
  {
   "cell_type": "code",
   "execution_count": null,
   "metadata": {},
   "outputs": [],
   "source": [
    "# Generate dummy classification data\n",
    "X, y = make_classification(n_samples=1000, n_features=2, n_classes=2, n_redundant=0)\n",
    "X = StandardScaler().fit_transform(X)  # normalize features\n",
    "\n",
    "# Split into train/test sets\n",
    "X_train, X_test, y_train, y_test = train_test_split(X, y, test_size=0.2)\n",
    "\n",
    "# Convert to PyTorch tensors\n",
    "X_train_tensor = torch.tensor(X_train, dtype=torch.float32)\n",
    "y_train_tensor = torch.tensor(y_train, dtype=torch.long)\n",
    "X_test_tensor = torch.tensor(X_test, dtype=torch.float32)\n",
    "y_test_tensor = torch.tensor(y_test, dtype=torch.long)\n",
    "\n",
    "model = SimpleNet()\n",
    "criterion = nn.CrossEntropyLoss()\n",
    "optimizer = optim.Adam(model.parameters(), lr=0.01)\n",
    "\n",
    "# Initialize lists to track metrics\n",
    "test_accuracies, epochs = [], []\n",
    "\n",
    "# Training loop\n",
    "for epoch in range(50):\n",
    "    model.train()\n",
    "    optimizer.zero_grad()\n",
    "    output = model(X_train_tensor)\n",
    "    loss = criterion(output, y_train_tensor)\n",
    "    loss.backward()\n",
    "    optimizer.step()\n",
    "\n",
    "    if (epoch + 1) % 10 == 0:\n",
    "        with torch.no_grad():\n",
    "            model.eval()\n",
    "            test_preds = model(X_test_tensor).argmax(dim=1)\n",
    "            acc = (test_preds == y_test_tensor).float().mean().item()\n",
    "            print(f\"Epoch {epoch+1}, Loss: {loss.item():.4f}, Test Accuracy: {acc:.2%}\")\n",
    "            epochs.append(epoch+1)\n",
    "            test_accuracies.append(acc)\n",
    "\n",
    "# Plot the test accuracy\n",
    "plt.figure(figsize=(5, 4))\n",
    "sns.lineplot(x=epochs, y=test_accuracies, marker='o', label='Test Accuracy')\n",
    "plt.title('Test Accuracy')\n",
    "plt.xlabel('Epochs')\n",
    "plt.ylabel('Accuracy')\n",
    "plt.tight_layout()\n",
    "img_path = os.path.join(\"assets\", 'simple_training.png')\n",
    "plt.savefig(img_path)\n",
    "plt.show()"
   ]
  },
  {
   "cell_type": "code",
   "execution_count": 11,
   "metadata": {},
   "outputs": [],
   "source": [
    "# Send the plot to the bot\n",
    "url = f'https://api.telegram.org/bot{BOT_TOKEN}/sendPhoto'\n",
    "\n",
    "with open(img_path, 'rb') as image_file:\n",
    "    files = {'photo': image_file}\n",
    "    data = {'chat_id': CHAT_ID, 'caption': \"Run successful! Here is the test accuracy\"}\n",
    "    response = requests.post(url, files=files, data=data)\n"
   ]
  },
  {
   "cell_type": "code",
   "execution_count": null,
   "metadata": {},
   "outputs": [],
   "source": [
    "# Not there is an error, and have the bot send you the stack trace\n",
    "import traceback\n",
    "\n",
    "x = 3\n",
    "\n",
    "try:\n",
    "    assert x == 4, \"Run failed, x is not 4!\"\n",
    "except AssertionError as e:\n",
    "    traceback.print_exc()\n",
    "    url = f'https://api.telegram.org/bot{BOT_TOKEN}/sendMessage'\n",
    "    data = {'chat_id': CHAT_ID, 'text': f\"Run failed, x is not 4\\n{traceback.format_exc()}\"}\n",
    "    response = requests.post(url, data=data)"
   ]
  }
 ],
 "metadata": {
  "kernelspec": {
   "display_name": "tb",
   "language": "python",
   "name": "python3"
  },
  "language_info": {
   "codemirror_mode": {
    "name": "ipython",
    "version": 3
   },
   "file_extension": ".py",
   "mimetype": "text/x-python",
   "name": "python",
   "nbconvert_exporter": "python",
   "pygments_lexer": "ipython3",
   "version": "3.9.21"
  }
 },
 "nbformat": 4,
 "nbformat_minor": 2
}
