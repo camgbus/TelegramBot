{
 "cells": [
  {
   "cell_type": "code",
   "execution_count": 1,
   "metadata": {},
   "outputs": [],
   "source": [
    "%load_ext autoreload\n",
    "%autoreload 2\n",
    "\n",
    "import requests\n",
    "from tb.local.telegram_bot_login import BOT_TOKEN, CHAT_ID"
   ]
  },
  {
   "cell_type": "code",
   "execution_count": null,
   "metadata": {},
   "outputs": [],
   "source": [
    "# Send a simple message\n",
    "url = f'https://api.telegram.org/bot{BOT_TOKEN}/sendMessage'\n",
    "payload = {\n",
    "    'chat_id': CHAT_ID,\n",
    "    'text': \"Hello, hello!\"\n",
    "}\n",
    "\n",
    "response = requests.post(url, data=payload)\n",
    "print(response.json())"
   ]
  },
  {
   "cell_type": "markdown",
   "metadata": {},
   "source": []
  },
  {
   "cell_type": "code",
   "execution_count": null,
   "metadata": {},
   "outputs": [],
   "source": [
    "# Send an image\n",
    "img_path = 'assets/sample_aquarium_image.webp'\n",
    "img_caption = 'The Monterrey Aquarium'\n",
    "\n",
    "url = f'https://api.telegram.org/bot{BOT_TOKEN}/sendPhoto'\n",
    "\n",
    "with open(img_path, 'rb') as image_file:\n",
    "    files = {'photo': image_file}\n",
    "    data = {'chat_id': CHAT_ID, 'caption': img_caption}\n",
    "    response = requests.post(url, files=files, data=data)\n",
    "\n",
    "print(response.json())"
   ]
  }
 ],
 "metadata": {
  "kernelspec": {
   "display_name": "tb",
   "language": "python",
   "name": "python3"
  },
  "language_info": {
   "codemirror_mode": {
    "name": "ipython",
    "version": 3
   },
   "file_extension": ".py",
   "mimetype": "text/x-python",
   "name": "python",
   "nbconvert_exporter": "python",
   "pygments_lexer": "ipython3",
   "version": "3.9.21"
  }
 },
 "nbformat": 4,
 "nbformat_minor": 2
}
